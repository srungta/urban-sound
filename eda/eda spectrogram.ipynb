{
 "cells": [
  {
   "cell_type": "markdown",
   "metadata": {},
   "source": [
    "First set up code to visualize a sound form"
   ]
  },
  {
   "cell_type": "code",
   "execution_count": null,
   "metadata": {},
   "outputs": [],
   "source": [
    "%pylab inline\n",
    "import IPython.display as ipd\n",
    "import librosa\n",
    "from librosa import load, display\n",
    "import glob\n",
    "# import matplotlib.pyplot as plt"
   ]
  },
  {
   "cell_type": "code",
   "execution_count": null,
   "metadata": {},
   "outputs": [],
   "source": [
    "# Helper method to desiplay the audio as a playable icon in the notebook.\n",
    "def show_audio_player(PATH):\n",
    "    ipd.display(ipd.Audio(PATH))"
   ]
  },
  {
   "cell_type": "code",
   "execution_count": null,
   "metadata": {},
   "outputs": [],
   "source": [
    "# Helper method to show the waveform of the audio.\n",
    "def show_audio_waveform(PATH):\n",
    "    data, sampling_rate = librosa.load(PATH)\n",
    "    print(\"Length of audio in floating point %d\" % len(data))\n",
    "    print(\"Sampling rate %d\" % sampling_rate)\n",
    "    plt.figure(figsize=(12,4))\n",
    "    librosa.display.waveplot(data, sr = sampling_rate)"
   ]
  },
  {
   "cell_type": "code",
   "execution_count": null,
   "metadata": {},
   "outputs": [],
   "source": [
    "# This is to verify if the audio is currently being displayed or not.\n",
    "PATH_TO_AUDIO = \"data/train/wav/10.wav\"\n",
    "show_audio_waveform(PATH_TO_AUDIO)\n",
    "show_audio_player(PATH_TO_AUDIO)"
   ]
  },
  {
   "cell_type": "markdown",
   "metadata": {},
   "source": [
    "Now that we have this, let us check the labels a bit."
   ]
  },
  {
   "cell_type": "code",
   "execution_count": null,
   "metadata": {},
   "outputs": [],
   "source": [
    "import pandas as pd\n",
    "import numpy as np"
   ]
  },
  {
   "cell_type": "code",
   "execution_count": null,
   "metadata": {},
   "outputs": [],
   "source": [
    "# You should change these paths according to the path of the files on your system.\n",
    "PATH_TO_TRAIN_LABELS = \"data/train/train.csv\"\n",
    "PATH_TO_TEST_LABELS = \"data/test/test.csv\"\n",
    "PATH_TO_TRAIN_AUDIO_FILES = \"data/train/wav/\"\n",
    "PATH_TO_TEST_AUDIO_FILES = \"data/test/wav/\"\n",
    "PATH_TO_SUBMISSION = \"submission/\""
   ]
  },
  {
   "cell_type": "code",
   "execution_count": null,
   "metadata": {},
   "outputs": [],
   "source": [
    "# It is easier to deal with csv if you can load it into a structure you can work with.\n",
    "# Pandas are the most convenient way to do that and are available with \n",
    "# inbuilt functionality to handle csv file.\n",
    "\n",
    "# Pandas assumes that the first row in your file is the header adn not the actual values.\n",
    "# This behavior can be overriden by passing header=None as a parameter.\n",
    "train = pd.read_csv(PATH_TO_TRAIN_LABELS)\n",
    "test = pd.read_csv(PATH_TO_TEST_LABELS)"
   ]
  },
  {
   "cell_type": "code",
   "execution_count": null,
   "metadata": {},
   "outputs": [],
   "source": [
    "# Let us start with checking the distribution of class labels in the test set.\n",
    "class_counts = train.groupby('Class').count().sort_values('ID')\n",
    "class_counts"
   ]
  },
  {
   "cell_type": "code",
   "execution_count": null,
   "metadata": {},
   "outputs": [],
   "source": [
    "# It is easier to follow the distribution through a bar chart visual.\n",
    "class_counts.plot(kind='bar',    # Plot a bar chart\n",
    "        legend=False,    # Turn the Legend off\n",
    "        width=1,      # Set bar width as 75% of space available\n",
    "        figsize=(8,5.8),  # Set size of plot in inches\n",
    "        color=[plt.cm.Paired(np.arange(len(class_counts)))])"
   ]
  },
  {
   "cell_type": "code",
   "execution_count": null,
   "metadata": {},
   "outputs": [],
   "source": [
    "# This is an alternate way to plot the same chart using the plot function provided by pandas.\n",
    "train.Class.value_counts().plot(kind='bar')"
   ]
  },
  {
   "cell_type": "code",
   "execution_count": null,
   "metadata": {},
   "outputs": [],
   "source": [
    "# Helper method to pick a random sample and see the waveform adn hear the sample.\n",
    "def show_random_sample(train, path_to_wav_files):\n",
    "    random_index = random.choice(train.index)\n",
    "    print(\"This sample is a \", train.Class[random_index])\n",
    "    print(\"The id of the sample is \", train.ID[random_index])\n",
    "    file_path = path_to_wav_files + str(train.ID[random_index]) + \".wav\"\n",
    "    show_audio_player(file_path)\n",
    "    show_audio_waveform(file_path)\n",
    "    "
   ]
  },
  {
   "cell_type": "code",
   "execution_count": null,
   "metadata": {},
   "outputs": [],
   "source": [
    "show_random_sample(train,PATH_TO_TRAIN_AUDIO_FILES )"
   ]
  }
 ],
 "metadata": {
  "kernelspec": {
   "display_name": "Python 3",
   "language": "python",
   "name": "python3"
  },
  "language_info": {
   "codemirror_mode": {
    "name": "ipython",
    "version": 3
   },
   "file_extension": ".py",
   "mimetype": "text/x-python",
   "name": "python",
   "nbconvert_exporter": "python",
   "pygments_lexer": "ipython3",
   "version": "3.6.5"
  }
 },
 "nbformat": 4,
 "nbformat_minor": 2
}
