{
 "cells": [
  {
   "cell_type": "markdown",
   "metadata": {},
   "source": [
    "First set up code to visualize a sound form"
   ]
  },
  {
   "cell_type": "code",
   "execution_count": null,
   "metadata": {},
   "outputs": [],
   "source": [
    "%pylab inline\n",
    "import IPython.display as ipd\n",
    "import librosa\n",
    "from librosa import load, display\n",
    "import glob\n",
    "# import matplotlib.pyplot as plt"
   ]
  },
  {
   "cell_type": "code",
   "execution_count": null,
   "metadata": {},
   "outputs": [],
   "source": [
    "import pandas as pd\n",
    "import numpy as np\n",
    "from common import read_from_pickle"
   ]
  },
  {
   "cell_type": "code",
   "execution_count": null,
   "metadata": {},
   "outputs": [],
   "source": [
    "# You should change these paths according to the path of the files on your system.\n",
    "PATH_TO_TRAIN_LABELS = \"data/train/train.csv\"\n",
    "PATH_TO_TEST_LABELS = \"data/test/test.csv\"\n",
    "PATH_TO_TRAIN_AUDIO_FILES = \"data/train/wav/\"\n",
    "PATH_TO_TEST_AUDIO_FILES = \"data/test/wav/\"\n",
    "PATH_TO_SUBMISSION = \"submission/\"\n",
    "PATH_TO_PICKLE = \"pickles/\""
   ]
  },
  {
   "cell_type": "code",
   "execution_count": 115,
   "metadata": {},
   "outputs": [
    {
     "ename": "FileNotFoundError",
     "evalue": "[Errno 2] No such file or directory: 'pickles/nn mfccs train.pickle'",
     "output_type": "error",
     "traceback": [
      "\u001b[1;31m---------------------------------------------------------------------------\u001b[0m",
      "\u001b[1;31mFileNotFoundError\u001b[0m                         Traceback (most recent call last)",
      "\u001b[1;32m<ipython-input-115-21103262f27e>\u001b[0m in \u001b[0;36m<module>\u001b[1;34m()\u001b[0m\n\u001b[0;32m      3\u001b[0m \u001b[0mmel\u001b[0m \u001b[1;33m=\u001b[0m  \u001b[0mread_from_pickle\u001b[0m\u001b[1;33m(\u001b[0m\u001b[0mPATH_TO_PICKLE\u001b[0m \u001b[1;33m+\u001b[0m \u001b[1;34m\"nn mel train.pickle\"\u001b[0m\u001b[1;33m)\u001b[0m\u001b[1;33m\u001b[0m\u001b[0m\n\u001b[0;32m      4\u001b[0m \u001b[0mtonnetz\u001b[0m \u001b[1;33m=\u001b[0m  \u001b[0mread_from_pickle\u001b[0m\u001b[1;33m(\u001b[0m\u001b[0mPATH_TO_PICKLE\u001b[0m \u001b[1;33m+\u001b[0m \u001b[1;34m\"nn tonnetz train.pickle\"\u001b[0m\u001b[1;33m)\u001b[0m\u001b[1;33m\u001b[0m\u001b[0m\n\u001b[1;32m----> 5\u001b[1;33m \u001b[0mmfccs\u001b[0m \u001b[1;33m=\u001b[0m  \u001b[0mread_from_pickle\u001b[0m\u001b[1;33m(\u001b[0m\u001b[0mPATH_TO_PICKLE\u001b[0m \u001b[1;33m+\u001b[0m \u001b[1;34m\"nn mfccs train.pickle\"\u001b[0m\u001b[1;33m)\u001b[0m\u001b[1;33m\u001b[0m\u001b[0m\n\u001b[0m\u001b[0;32m      6\u001b[0m \u001b[1;33m\u001b[0m\u001b[0m\n\u001b[0;32m      7\u001b[0m \u001b[0mchroma_test\u001b[0m \u001b[1;33m=\u001b[0m \u001b[0mread_from_pickle\u001b[0m\u001b[1;33m(\u001b[0m\u001b[0mPATH_TO_PICKLE\u001b[0m \u001b[1;33m+\u001b[0m \u001b[1;34m\"nn chroma test.pickle\"\u001b[0m\u001b[1;33m)\u001b[0m\u001b[1;33m\u001b[0m\u001b[0m\n",
      "\u001b[1;32mD:\\git\\srungta\\urban-sound\\common.py\u001b[0m in \u001b[0;36mread_from_pickle\u001b[1;34m(pickle_file)\u001b[0m\n\u001b[0;32m      1\u001b[0m \u001b[1;32mimport\u001b[0m \u001b[0mpickle\u001b[0m\u001b[1;33m\u001b[0m\u001b[0m\n\u001b[0;32m      2\u001b[0m \u001b[1;32mdef\u001b[0m \u001b[0mread_from_pickle\u001b[0m\u001b[1;33m(\u001b[0m\u001b[0mpickle_file\u001b[0m\u001b[1;33m)\u001b[0m\u001b[1;33m:\u001b[0m\u001b[1;33m\u001b[0m\u001b[0m\n\u001b[1;32m----> 3\u001b[1;33m     \u001b[0mpickle_file\u001b[0m \u001b[1;33m=\u001b[0m \u001b[0mopen\u001b[0m\u001b[1;33m(\u001b[0m\u001b[0mpickle_file\u001b[0m\u001b[1;33m,\u001b[0m \u001b[1;34m\"rb\"\u001b[0m\u001b[1;33m)\u001b[0m\u001b[1;33m\u001b[0m\u001b[0m\n\u001b[0m\u001b[0;32m      4\u001b[0m     \u001b[0memp\u001b[0m \u001b[1;33m=\u001b[0m \u001b[0mpickle\u001b[0m\u001b[1;33m.\u001b[0m\u001b[0mload\u001b[0m\u001b[1;33m(\u001b[0m\u001b[0mpickle_file\u001b[0m\u001b[1;33m)\u001b[0m\u001b[1;33m\u001b[0m\u001b[0m\n\u001b[0;32m      5\u001b[0m     \u001b[0mpickle_file\u001b[0m\u001b[1;33m.\u001b[0m\u001b[0mclose\u001b[0m\u001b[1;33m(\u001b[0m\u001b[1;33m)\u001b[0m\u001b[1;33m\u001b[0m\u001b[0m\n",
      "\u001b[1;31mFileNotFoundError\u001b[0m: [Errno 2] No such file or directory: 'pickles/nn mfccs train.pickle'"
     ]
    }
   ],
   "source": [
    "chroma = read_from_pickle(PATH_TO_PICKLE + \"nn chroma train.pickle\")\n",
    "contrast = read_from_pickle(PATH_TO_PICKLE + \"nn contrast train.pickle\")\n",
    "mel =  read_from_pickle(PATH_TO_PICKLE + \"nn mel train.pickle\")\n",
    "tonnetz =  read_from_pickle(PATH_TO_PICKLE + \"nn tonnetz train.pickle\")\n",
    "mfccs =  read_from_pickle(PATH_TO_PICKLE + \"nn mfccs train.pickle\")\n",
    "\n",
    "chroma_test = read_from_pickle(PATH_TO_PICKLE + \"nn chroma test.pickle\")\n",
    "contrast_test = read_from_pickle(PATH_TO_PICKLE + \"nn contrast test.pickle\")\n",
    "mel_test =  read_from_pickle(PATH_TO_PICKLE + \"nn mel test.pickle\")\n",
    "tonnetz_test =  read_from_pickle(PATH_TO_PICKLE + \"nn tonnetz test.pickle\")\n",
    "mfccs_test =  read_from_pickle(PATH_TO_PICKLE + \"nn mfccs test.pickle\")"
   ]
  },
  {
   "cell_type": "code",
   "execution_count": null,
   "metadata": {},
   "outputs": [],
   "source": [
    "chroma = chroma[:2]\n",
    "contrast = contrast[:2]\n",
    "mel = mel[:2]\n",
    "tonnetz = tonnetz[:2]\n",
    "#mfccs = mfccs[:2]\n",
    "\n",
    "chroma_test = chroma_test[:2]\n",
    "contrast_test = contrast_test[:2]\n",
    "mel_test = mel_test[:2]\n",
    "tonnetz_test = tonnetz_test[:2]\n",
    "# mfccs_test = mfccs_test[:2]"
   ]
  },
  {
   "cell_type": "code",
   "execution_count": null,
   "metadata": {},
   "outputs": [],
   "source": [
    "train = pd.concat([chroma,mel,contrast,tonnetz], axis = 1)\n",
    "test = pd.concat([chroma_test,mel_test,contrast_test,tonnetz_test], axis = 1)"
   ]
  },
  {
   "cell_type": "code",
   "execution_count": 114,
   "metadata": {},
   "outputs": [
    {
     "name": "stdout",
     "output_type": "stream",
     "text": [
      "[0.79807078 0.84270708 0.8235438  0.81167137 0.82789256 0.84835391\n",
      " 0.86723692 0.82401034 0.80902169 0.77104424 0.76811742 0.79589275]\n",
      "[5.87708541e+00 2.03388998e+01 5.20855222e+01 3.82289120e+01\n",
      " 1.04353662e+01 9.48910564e+00 1.40696703e+01 1.35309566e+01\n",
      " 9.39499475e+00 9.96546437e+00 5.37755803e+00 3.79177272e+00\n",
      " 3.71443543e+00 2.82228024e+00 1.61042534e+00 1.56576814e+00\n",
      " 9.82303401e-01 1.23218593e+00 1.76910114e+00 2.17238823e+00\n",
      " 2.77292466e+00 3.52536819e+00 4.57555016e+00 5.85364322e+00\n",
      " 5.62706726e+00 4.19326163e+00 4.34049825e+00 4.35999220e+00\n",
      " 4.52208382e+00 4.63111460e+00 4.12360476e+00 4.10931668e+00\n",
      " 4.67110659e+00 2.93461494e+00 2.37408304e+00 3.21437430e+00\n",
      " 3.68181554e+00 2.84264293e+00 2.08246911e+00 3.19499744e+00\n",
      " 2.68539929e+00 3.65215426e+00 3.59345507e+00 3.19026252e+00\n",
      " 1.83367031e+00 1.51010177e+00 1.37544608e+00 1.64178969e+00\n",
      " 1.90366473e+00 1.64655914e+00 1.60330134e+00 2.41138681e+00\n",
      " 1.61818166e+00 1.30545541e+00 1.23210898e+00 1.32470569e+00\n",
      " 1.10737082e+00 1.40909488e+00 1.46043759e+00 1.18781959e+00\n",
      " 1.13895560e+00 9.63624515e-01 9.38644739e-01 8.45844613e-01\n",
      " 7.21406799e-01 5.54570886e-01 5.49192083e-01 5.58599317e-01\n",
      " 5.76907307e-01 4.77078704e-01 4.31286424e-01 4.58546109e-01\n",
      " 3.55406662e-01 2.81671187e-01 2.21315993e-01 2.13429841e-01\n",
      " 2.30808591e-01 2.30843352e-01 2.37650423e-01 1.68022947e-01\n",
      " 1.43632931e-01 1.23291339e-01 9.06624539e-02 8.37211056e-02\n",
      " 7.23014420e-02 7.13375013e-02 5.77784925e-02 5.47648317e-02\n",
      " 5.25353294e-02 5.64451813e-02 4.87412413e-02 5.10964368e-02\n",
      " 3.28390581e-02 2.27239715e-02 1.95067154e-02 1.67306095e-02\n",
      " 1.81264078e-02 1.70041996e-02 1.78443342e-02 1.62444397e-02\n",
      " 1.48640458e-02 1.51080912e-02 1.56623203e-02 1.33470882e-02\n",
      " 1.31465537e-02 1.27720727e-02 1.22640567e-02 1.03948321e-02\n",
      " 9.98508032e-03 9.94586990e-03 9.43453432e-03 8.44225500e-03\n",
      " 8.89980235e-03 7.23751610e-03 6.98470888e-03 6.97673577e-03\n",
      " 5.58073540e-03 4.39368707e-03 3.73154155e-03 2.87085629e-03\n",
      " 2.38169224e-03 1.85195862e-03 1.56155140e-03 1.02875756e-03\n",
      " 6.71911236e-04 4.30536385e-04 1.38996125e-04 1.08031648e-05]\n"
     ]
    }
   ],
   "source": [
    "train.columns = ['chroma', 'Class', 'mel', 'Class', 'contrast', 'Class', 'tonnetz', 'Class']\n",
    "#train['feature'] = train['chroma'] + train['mel']\n",
    "\n",
    "print(train['chroma'][0])\n",
    "print(train['mel'][0])"
   ]
  },
  {
   "cell_type": "code",
   "execution_count": 104,
   "metadata": {},
   "outputs": [
    {
     "data": {
      "text/plain": [
       "4"
      ]
     },
     "execution_count": 104,
     "metadata": {},
     "output_type": "execute_result"
    }
   ],
   "source": [
    "len(A)"
   ]
  },
  {
   "cell_type": "code",
   "execution_count": null,
   "metadata": {},
   "outputs": [],
   "source": [
    "X = np.concatenate((train['chroma'],train['mel'],train['contrast'],train['tonnetz']), axis = 0)"
   ]
  },
  {
   "cell_type": "code",
   "execution_count": null,
   "metadata": {},
   "outputs": [],
   "source": [
    "print(train_features)"
   ]
  },
  {
   "cell_type": "code",
   "execution_count": null,
   "metadata": {},
   "outputs": [],
   "source": [
    "# Renaming the columns to singnify what they mean helps with documentation,\n",
    "# and also helps you keep track of them later on.\n",
    "train_features.columns = ['feature','label']\n",
    "# train_features.head()"
   ]
  },
  {
   "cell_type": "code",
   "execution_count": null,
   "metadata": {},
   "outputs": [],
   "source": [
    "# this library helps us convert string labels into easy to handle encoded labels.\n",
    "from sklearn.preprocessing import LabelEncoder\n",
    "from keras.utils.np_utils import to_categorical"
   ]
  },
  {
   "cell_type": "code",
   "execution_count": null,
   "metadata": {},
   "outputs": [],
   "source": [
    "X = np.array(train_features.feature.tolist())\n",
    "Y = np.array(train_features.label.tolist())\n",
    "lb = LabelEncoder()\n",
    "# Since labels are categories they dont inherently have an order amongst themselves.\n",
    "# For example, Apples > oranges does not make any sense. So to madel such categorical \n",
    "# variables, we can convert them to one hot vectors.\n",
    "Y = to_categorical(lb.fit_transform(Y))"
   ]
  },
  {
   "cell_type": "code",
   "execution_count": null,
   "metadata": {},
   "outputs": [],
   "source": [
    "from keras.models import Sequential\n",
    "from keras.layers import Dense, Activation, Dropout"
   ]
  },
  {
   "cell_type": "code",
   "execution_count": null,
   "metadata": {},
   "outputs": [],
   "source": [
    "number_of_labels = Y.shape[1]\n",
    "filter_size = 2"
   ]
  },
  {
   "cell_type": "code",
   "execution_count": null,
   "metadata": {},
   "outputs": [],
   "source": [
    "model = Sequential()"
   ]
  },
  {
   "cell_type": "code",
   "execution_count": null,
   "metadata": {},
   "outputs": [],
   "source": [
    "model.add(Dense(256, input_shape=(40,)))\n",
    "model.add(Activation('relu'))\n",
    "model.add(Dropout(0.5))"
   ]
  },
  {
   "cell_type": "code",
   "execution_count": null,
   "metadata": {},
   "outputs": [],
   "source": [
    "model.add(Dense(256))\n",
    "model.add(Activation('relu'))\n",
    "model.add(Dropout(0.5))"
   ]
  },
  {
   "cell_type": "code",
   "execution_count": null,
   "metadata": {},
   "outputs": [],
   "source": [
    "model.add(Dense(number_of_labels))\n",
    "model.add(Activation('softmax'))"
   ]
  },
  {
   "cell_type": "code",
   "execution_count": null,
   "metadata": {},
   "outputs": [],
   "source": [
    "model.summary()"
   ]
  },
  {
   "cell_type": "code",
   "execution_count": null,
   "metadata": {},
   "outputs": [],
   "source": [
    "model.compile(loss='categorical_crossentropy', metrics = ['accuracy'], optimizer='adam')\n"
   ]
  },
  {
   "cell_type": "code",
   "execution_count": null,
   "metadata": {},
   "outputs": [],
   "source": [
    "model.fit(X,Y, batch_size=32, epochs=50)"
   ]
  },
  {
   "cell_type": "code",
   "execution_count": null,
   "metadata": {},
   "outputs": [],
   "source": [
    "def test_parser(row):\n",
    "    global test_error_count\n",
    "    global test_error_labels\n",
    "    path_to_wav_files = PATH_TO_TEST_AUDIO_FILES\n",
    "    file_path = path_to_wav_files + str(row.ID) + \".wav\"\n",
    "    try:\n",
    "        data, sampling_rate = librosa.load(file_path, res_type='kaiser_fast')\n",
    "        mfccs = np.mean( librosa.feature.mfcc(y = data, sr = sampling_rate, n_mfcc= 40).T, axis=0)\n",
    "    except Exception as ex:\n",
    "        test_error_count += 1\n",
    "        test_error_labels.append(row.ID)\n",
    "        return pd.Series([0]*40)\n",
    "    features = mfccs\n",
    "    return pd.Series(features)"
   ]
  },
  {
   "cell_type": "code",
   "execution_count": null,
   "metadata": {},
   "outputs": [],
   "source": [
    "#try:\n",
    "test_features = test.apply(test_parser,axis=1, reduce = True)\n",
    "print(\"%d samples had errors while parsing\" % test_error_count)\n",
    "print(\"Errorneous samples\", test_error_labels)\n",
    "#except Exception as ex:\n",
    " #   print(ex)"
   ]
  },
  {
   "cell_type": "code",
   "execution_count": null,
   "metadata": {},
   "outputs": [],
   "source": [
    "X_test = test_features\n",
    "# X_test"
   ]
  },
  {
   "cell_type": "code",
   "execution_count": null,
   "metadata": {},
   "outputs": [],
   "source": [
    "test_labels = model.predict(X_test, batch_size=32)"
   ]
  },
  {
   "cell_type": "code",
   "execution_count": null,
   "metadata": {},
   "outputs": [],
   "source": [
    "test_labels_strings = lb.inverse_transform(test_labels.argmax(axis=1))\n",
    "# test_labels_strings"
   ]
  },
  {
   "cell_type": "code",
   "execution_count": null,
   "metadata": {},
   "outputs": [],
   "source": [
    "test['Class'] = test_labels_strings"
   ]
  },
  {
   "cell_type": "code",
   "execution_count": null,
   "metadata": {},
   "outputs": [],
   "source": [
    "test.to_csv(PATH_TO_SUBMISSION + \"sub_nn_56.csv\",index=None)"
   ]
  },
  {
   "cell_type": "markdown",
   "metadata": {},
   "source": [
    "This approach gives 56% accuracy with the above setup."
   ]
  },
  {
   "cell_type": "code",
   "execution_count": null,
   "metadata": {},
   "outputs": [],
   "source": []
  }
 ],
 "metadata": {
  "kernelspec": {
   "display_name": "Python 3",
   "language": "python",
   "name": "python3"
  },
  "language_info": {
   "codemirror_mode": {
    "name": "ipython",
    "version": 3
   },
   "file_extension": ".py",
   "mimetype": "text/x-python",
   "name": "python",
   "nbconvert_exporter": "python",
   "pygments_lexer": "ipython3",
   "version": "3.6.5"
  }
 },
 "nbformat": 4,
 "nbformat_minor": 2
}
